{
 "cells": [
  {
   "cell_type": "code",
   "execution_count": 3,
   "metadata": {},
   "outputs": [],
   "source": [
    "import sys\n",
    "import spotipy\n",
    "from spotipy.oauth2 import SpotifyClientCredentials\n",
    "from bs4 import BeautifulSoup\n",
    "import requests\n",
    "import os\n",
    "import csv\n",
    "\n",
    "sys.path.append(\".\")\n",
    "\n",
    "import config"
   ]
  },
  {
   "cell_type": "code",
   "execution_count": 4,
   "metadata": {},
   "outputs": [
    {
     "name": "stdout",
     "output_type": "stream",
     "text": [
      "<module 'config' from '/Users/dvergarae/Documents/GitHub/MUITSS-ASPY/config.py'>\n"
     ]
    }
   ],
   "source": [
    "print(config)"
   ]
  },
  {
   "cell_type": "code",
   "execution_count": 5,
   "metadata": {},
   "outputs": [],
   "source": [
    "PROJECT_PATH = config.data_directory"
   ]
  },
  {
   "cell_type": "code",
   "execution_count": 6,
   "metadata": {},
   "outputs": [],
   "source": [
    "client_credentials_manager = SpotifyClientCredentials(client_id=config.client_id, client_secret=config.client_secret)\n",
    "sp = spotipy.Spotify(client_credentials_manager=client_credentials_manager)"
   ]
  },
  {
   "cell_type": "code",
   "execution_count": 7,
   "metadata": {},
   "outputs": [],
   "source": [
    "raw_songs =sp.search(q='year:1990', limit=50, offset=1, type='track')"
   ]
  },
  {
   "cell_type": "code",
   "execution_count": 10,
   "metadata": {},
   "outputs": [],
   "source": [
    "def create_file(title):\n",
    "  file_path = '{}/{}.txt'.format(PROJECT_PATH, title)\n",
    "  if not os.path.exists(file_path):\n",
    "      result = requests.get(\"https://www.azlyrics.com/lyrics/{}.html\".format(title))\n",
    "      c = result.content\n",
    "      soup = BeautifulSoup(c)\n",
    "      ringtone = soup.find_all(\"div\", class_=\"ringtone\")[0]\n",
    "      html_lyrics = ringtone.find_next_sibling('div')\n",
    "      cleanText = html_lyrics.get_text().replace('\\r','').replace('\\n',' ').replace(\"\\'\",'\"')\n",
    "\n",
    "      file_path = '{}/{}.txt'.format(PROJECT_PATH, title.replace('/','-'))\n",
    "\n",
    "      fo = open(file_path, \"w\")\n",
    "      fo.write(cleanText)\n",
    "      fo.close()\n",
    "  else:\n",
    "    print('File Already Exists')"
   ]
  },
  {
   "cell_type": "code",
   "execution_count": 11,
   "metadata": {},
   "outputs": [],
   "source": [
    "create_file('wizkhalifa/youngwildfree')"
   ]
  },
  {
   "cell_type": "code",
   "execution_count": 24,
   "metadata": {},
   "outputs": [],
   "source": [
    "def create_songs_file(name):\n",
    "    csvData = [['id', 'name', 'popularity', 'duration_ms', 'explicit', 'artist', 'artist_id', 'album', 'album_id', 'album_release_date', 'album_release_date_precision', 'album_total_tracks']]\n",
    "\n",
    "    with open('{}/{}.csv'.format(PROJECT_PATH, name), 'w', newline = '', encoding='utf-8') as csvFile:\n",
    "        writer = csv.writer(csvFile)\n",
    "        writer.writerows(csvData)\n",
    "\n",
    "    csvFile.close()"
   ]
  },
  {
   "cell_type": "code",
   "execution_count": 25,
   "metadata": {},
   "outputs": [],
   "source": [
    "create_songs_file('songs')"
   ]
  },
  {
   "cell_type": "code",
   "execution_count": 26,
   "metadata": {},
   "outputs": [],
   "source": [
    "def fetch_songs(offset, count, name = 'songs', limit = 50):\n",
    "    tracks = []\n",
    "\n",
    "    with open('{}/{}.csv'.format(PROJECT_PATH, name), 'a', newline = '', encoding='utf-8') as csvFile:\n",
    "        writer = csv.writer(csvFile)\n",
    "        for i in range(offset, count * limit, limit):\n",
    "            track_results = sp.search(q='year:1990', type='track', limit=limit,offset=i)\n",
    "            for i, t in enumerate(track_results['tracks']['items']):\n",
    "                tracks.append([t['id'], t['name'], t['popularity'], t['duration_ms'], t['explicit'], t['artists'][0]['name'], t['artists'][0]['id'],  t['album']['name'], t['album']['id'], t['album']['release_date'], t['album']['release_date_precision'], t['album']['total_tracks']])\n",
    "        writer.writerows(tracks)\n",
    "    csvFile.close()\n"
   ]
  },
  {
   "cell_type": "code",
   "execution_count": 27,
   "metadata": {},
   "outputs": [],
   "source": [
    "fetch_songs(0, 3)"
   ]
  },
  {
   "cell_type": "code",
   "execution_count": 29,
   "metadata": {},
   "outputs": [
    {
     "name": "stdout",
     "output_type": "stream",
     "text": [
      "0\n",
      "50\n",
      "100\n"
     ]
    }
   ],
   "source": [
    "for i in range(0,150,50):\n",
    "    print(i)"
   ]
  },
  {
   "cell_type": "code",
   "execution_count": null,
   "metadata": {},
   "outputs": [],
   "source": []
  }
 ],
 "metadata": {
  "kernelspec": {
   "display_name": "Python 3",
   "language": "python",
   "name": "python3"
  },
  "language_info": {
   "codemirror_mode": {
    "name": "ipython",
    "version": 3
   },
   "file_extension": ".py",
   "mimetype": "text/x-python",
   "name": "python",
   "nbconvert_exporter": "python",
   "pygments_lexer": "ipython3",
   "version": "3.7.1"
  }
 },
 "nbformat": 4,
 "nbformat_minor": 2
}
