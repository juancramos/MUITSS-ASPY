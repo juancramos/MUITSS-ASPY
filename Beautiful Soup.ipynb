{
 "cells": [
  {
   "cell_type": "code",
   "execution_count": 15,
   "metadata": {},
   "outputs": [],
   "source": [
    "import sys\n",
    "import spotipy\n",
    "from spotipy.oauth2 import SpotifyClientCredentials\n",
    "from bs4 import BeautifulSoup\n",
    "import requests\n",
    "import os\n",
    "import csv\n",
    "\n",
    "sys.path.append(\".\")\n",
    "\n",
    "import config"
   ]
  },
  {
   "cell_type": "code",
   "execution_count": 16,
   "metadata": {},
   "outputs": [],
   "source": [
    "client_credentials_manager = SpotifyClientCredentials(client_id=config.client_id, client_secret=config.client_secret)\n",
    "sp = spotipy.Spotify(client_credentials_manager=client_credentials_manager)"
   ]
  },
  {
   "cell_type": "code",
   "execution_count": 17,
   "metadata": {},
   "outputs": [],
   "source": [
    "raw_songs =sp.search(q='year:1990', limit=50, offset=1, type='track')"
   ]
  },
  {
   "cell_type": "code",
   "execution_count": 5,
   "metadata": {},
   "outputs": [],
   "source": [
    "PROJECT_PATH = './data'"
   ]
  },
  {
   "cell_type": "code",
   "execution_count": 6,
   "metadata": {},
   "outputs": [],
   "source": [
    "result = requests.get(\"https://www.azlyrics.com/lyrics/wizkhalifa/youngwildfree.html\")"
   ]
  },
  {
   "cell_type": "code",
   "execution_count": 7,
   "metadata": {},
   "outputs": [],
   "source": [
    "c = result.content"
   ]
  },
  {
   "cell_type": "code",
   "execution_count": 8,
   "metadata": {},
   "outputs": [],
   "source": [
    "soup = BeautifulSoup(c)"
   ]
  },
  {
   "cell_type": "code",
   "execution_count": 9,
   "metadata": {},
   "outputs": [
    {
     "data": {
      "text/plain": [
       "<b>Wiz Khalifa Lyrics</b>"
      ]
     },
     "execution_count": 9,
     "metadata": {},
     "output_type": "execute_result"
    }
   ],
   "source": [
    "soup.body.b"
   ]
  },
  {
   "cell_type": "code",
   "execution_count": 10,
   "metadata": {},
   "outputs": [],
   "source": [
    "ringtone = soup.find_all(\"div\", class_=\"ringtone\")[0]"
   ]
  },
  {
   "cell_type": "code",
   "execution_count": 11,
   "metadata": {},
   "outputs": [],
   "source": [
    "html_lyrics = ringtone.find_next_sibling('div')"
   ]
  },
  {
   "cell_type": "code",
   "execution_count": 12,
   "metadata": {},
   "outputs": [
    {
     "data": {
      "text/plain": [
       "\"\\n\\n[Hook - Bruno Mars:]\\nSo what we get drunk?\\nSo what we smoke weed?\\nWe’re just having fun\\nWe don’t care who sees\\nSo what we go out?\\nThat’s how it's supposed to be\\nLiving young and wild and free\\n\\n[Verse 1 - Wiz Khalifa:]\\nUh, Uh huh\\nSo what I keep ‘em rolled up?\\nSaggin’ my pants, not caring what I show\\nKeep it real with my niggas\\nKeep it player for these hoes\\nAnd look clean don't it?\\nWashed it the other day, watch how you lean on it\\nGive me some 501 jeans on it\\nRoll joints bigger than King Kong’s fingers\\nAnd smoke them hoes down ’til they stingers\\nYou a class clown and if I skip for the day\\nI’m with your bitch smokin’ grade A\\n\\n[Verse 1 - Snoop Dogg:]\\nYou know what?\\nIt’s like I’m 17 again\\nPeach fuzz on my face\\nLookin’, on the case\\nTryna find a hella taste\\nOh my god, I’m on the chase, Chevy\\nIt's gettin’ kinda heavy, relevant, sellin’ it\\nDippin’ away, time keeps slippin’ away\\nZip in the safe, flippin’ for pay\\nTippin’ like I’m drippin’ in paint\\nUp front, four blunts, like, “Khalifa put the weed in a J”\\n\\n[Hook]\\n\\n[Verse 2 - Wiz Khalifa:]\\nAnd I don't even care\\nCause if me and my team in there\\nThere's gonna be some weed in the air\\nTell 'em Mac\\n\\n[Verse 2 - Snoop Dogg:]\\nBlowin' everywhere we goin' and now you knowin'\\nWhen I step right up, get my lighter so I can light up\\n\\n[Wiz Khalifa]\\nThat's how it should be done\\nSoon as you thinkin' you're down\\nFind how to turn things around\\nNow things are lookin' up\\n\\n[Snoop Dogg]\\nFrom the ground up, pound up, this Taylor Gang\\nSo turn my sound up and mount up and do my thang\\n\\n[Wiz Khalifa]\\nNow I'm chillin', fresh outta class, feelin'\\nLike I'm on my own and I could probably own a building\\nGot my own car, no job, no children\\nHad a science project, me and Mac killed it\\n\\n[Snoop Dogg]\\nT-H-C, M-A-C, D-E-V, H-D-3, high as me\\nThis is us, we gon' fuss\\nAnd we gon' fight and we gon' roll\\nAnd live off life\\n\\n[Hook]\\n\\n[Bridge - Wiz Khalifa:]\\nYeah, roll one, smoke one\\nWhen you live like this you’re supposed to party\\nRoll one, smoke one, and we all just having fun\\nSo we just, roll one, smoke one\\nWhen you live like this you’re supposed to party\\nRoll one, smoke one, and we all just having fun\\n\\n[Hook]\\n\""
      ]
     },
     "execution_count": 12,
     "metadata": {},
     "output_type": "execute_result"
    }
   ],
   "source": [
    "html_lyrics.get_text()"
   ]
  },
  {
   "cell_type": "code",
   "execution_count": 13,
   "metadata": {},
   "outputs": [],
   "source": [
    "def create_file(title):\n",
    "  file_path = '{}/{}.txt'.format(PROJECT_PATH, title)\n",
    "  if not os.path.exists(file_path):\n",
    "      result = requests.get(\"https://www.azlyrics.com/lyrics/{}.html\".format(title))\n",
    "      c = result.content\n",
    "      soup = BeautifulSoup(c)\n",
    "      ringtone = soup.find_all(\"div\", class_=\"ringtone\")[0]\n",
    "      html_lyrics = ringtone.find_next_sibling('div')\n",
    "      cleanText = html_lyrics.get_text().replace('\\r','').replace('\\n',' ').replace(\"\\'\",'\"')\n",
    "\n",
    "      file_path = '{}/{}.txt'.format(PROJECT_PATH, title.replace('/','-'))\n",
    "\n",
    "      fo = open(file_path, \"w\")\n",
    "      fo.write(cleanText)\n",
    "      fo.close()\n",
    "  else:\n",
    "    print('File Already Exists')"
   ]
  },
  {
   "cell_type": "code",
   "execution_count": 14,
   "metadata": {},
   "outputs": [],
   "source": [
    "create_file('wizkhalifa/youngwildfree')"
   ]
  },
  {
   "cell_type": "code",
   "execution_count": 15,
   "metadata": {},
   "outputs": [],
   "source": [
    "def create_songs_file(name):\n",
    "    csvData = [['name', 'id', 'popularity', 'duration_ms', 'explicit', 'artist', 'artist_id', 'album', 'album_id', 'album_release_date', 'album_release_date_precision', 'album_total_tracks', 'added_at']]\n",
    "\n",
    "    PROJECT_PATH = '../data/lyrics'\n",
    "    with open('{}/{}.csv'.format(PROJECT_PATH, name), 'w') as csvFile:\n",
    "        writer = csv.writer(csvFile)\n",
    "        writer.writerows(csvData)\n",
    "\n",
    "    csvFile.close()"
   ]
  },
  {
   "cell_type": "code",
   "execution_count": 16,
   "metadata": {},
   "outputs": [],
   "source": [
    "create_songs_file('songs')"
   ]
  },
  {
   "cell_type": "code",
   "execution_count": null,
   "metadata": {},
   "outputs": [],
   "source": []
  }
 ],
 "metadata": {
  "kernelspec": {
   "display_name": "Python 3",
   "language": "python",
   "name": "python3"
  },
  "language_info": {
   "codemirror_mode": {
    "name": "ipython",
    "version": 3
   },
   "file_extension": ".py",
   "mimetype": "text/x-python",
   "name": "python",
   "nbconvert_exporter": "python",
   "pygments_lexer": "ipython3",
   "version": "3.7.1"
  }
 },
 "nbformat": 4,
 "nbformat_minor": 2
}
