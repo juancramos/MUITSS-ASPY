{
 "cells": [
  {
   "cell_type": "code",
   "execution_count": null,
   "metadata": {},
   "outputs": [],
   "source": [
    "import sys\n",
    "import spotipy\n",
    "from spotipy.oauth2 import SpotifyClientCredentials\n",
    "from bs4 import BeautifulSoup\n",
    "import requests\n",
    "import os\n",
    "import csv\n",
    "import pandas as pd\n",
    "import numpy\n",
    "import config"
   ]
  },
  {
   "cell_type": "code",
   "execution_count": null,
   "metadata": {},
   "outputs": [],
   "source": [
    "print(config)"
   ]
  },
  {
   "cell_type": "code",
   "execution_count": null,
   "metadata": {},
   "outputs": [],
   "source": [
    "PROJECT_PATH = config.data_directory"
   ]
  },
  {
   "cell_type": "code",
   "execution_count": null,
   "metadata": {},
   "outputs": [],
   "source": [
    "client_credentials_manager = SpotifyClientCredentials(client_id=config.client_id, client_secret=config.client_secret)\n",
    "sp = spotipy.Spotify(client_credentials_manager=client_credentials_manager)"
   ]
  },
  {
   "cell_type": "code",
   "execution_count": null,
   "metadata": {},
   "outputs": [],
   "source": [
    "# try to not get banned\n",
    "import random\n",
    "import time\n",
    "\n",
    "USER_AGENTS = [\n",
    "    'Mozilla/5.0 (Windows; U; Windows NT 5.1; it; rv:1.8.1.11) Gecko/20071127 Firefox/2.0.0.11',\n",
    "    'Mozilla/5.0 (iPad; CPU OS 8_4_1 like Mac OS X) AppleWebKit/600.1.4 (KHTML, like Gecko) Version/8.0 Mobile/12H321 Safari/600.1.4',\n",
    "    'Mozilla/4.0 (compatible; MSIE 6.0; Windows NT 5.1; SV1; .NET CLR 1.1.4322; .NET CLR 2.0.50727)',\n",
    "    'Mozilla/5.0 (compatible; Konqueror/3.5; Linux) KHTML/3.5.5 (like Gecko) (Kubuntu)',\n",
    "    'Mozilla/5.0 (Windows NT 10.0; Win64; x64) AppleWebKit/537.36 (KHTML, like Gecko) Chrome/51.0.2704.79 Safari/537.36 Edge/14.14393'\n",
    "    'Mozilla/5.0 (Macintosh; Intel Mac OS X 10.7; rv:11.0) Gecko/20100101 Firefox/11.0',\n",
    "    'Mozilla/5.0 (Windows NT 10.0; Win64; x64; rv:53.0) Gecko/20100101 Firefox/53.0',\n",
    "    'Mozilla/5.0 (Windows NT 10.0; Win64; x64) AppleWebKit/537.36 (KHTML, like Gecko) Chrome/58.0.3029.110 Safari/537.36',\n",
    "    'Mozilla/5.0 (Windows NT 10.0; Win64; x64) AppleWebKit/537.36 (KHTML, like Gecko) Chrome/71.0.3578.98 Safari/537.36 OPR/58.0.3135.107']\n",
    "\n",
    "def getLyric(title, user_agent=True):\n",
    "    url = \"https://www.azlyrics.com/lyrics/{}.html\".format(title)\n",
    "    time.sleep(random.randint(1,10))\n",
    "    if user_agent:\n",
    "        return requests.get(url, headers={'User-Agent': random.choice(USER_AGENTS)})\n",
    "    return requests.get(url)"
   ]
  },
  {
   "cell_type": "code",
   "execution_count": null,
   "metadata": {},
   "outputs": [],
   "source": [
    "def create_file(title):\n",
    "    file_path = '{}/{}.txt'.format(PROJECT_PATH, title.replace('/','-'))\n",
    "\n",
    "    if not os.path.exists(file_path):\n",
    "        result = getLyric(title)\n",
    "        c = result.content\n",
    "        soup = BeautifulSoup(c)\n",
    "        ringtones = soup.find_all(\"div\", class_=\"ringtone\")\n",
    "        \n",
    "        if len(ringtones) > 0:\n",
    "            ringtone = ringtones[0]\n",
    "            html_lyrics = ringtone.find_next_sibling('div')\n",
    "            cleanText = html_lyrics.get_text().replace('\\r','').replace('\\n',' ').replace(\"\\'\",'\"')\n",
    "\n",
    "            fo = open(file_path, \"w\", encoding='utf-8')\n",
    "            fo.write(cleanText)\n",
    "            fo.close()\n",
    "            return 1\n",
    "        else:\n",
    "            return 0\n",
    "    else:\n",
    "        print('File Already Exists')\n",
    "        return 1"
   ]
  },
  {
   "cell_type": "code",
   "execution_count": null,
   "metadata": {},
   "outputs": [],
   "source": [
    "create_file('wizkhalifa/youngwildfree')"
   ]
  },
  {
   "cell_type": "code",
   "execution_count": null,
   "metadata": {},
   "outputs": [],
   "source": [
    "getLyric('wizkhalifa/youngwildfree')"
   ]
  },
  {
   "cell_type": "code",
   "execution_count": null,
   "metadata": {},
   "outputs": [],
   "source": [
    "def create_songs_file(name):\n",
    "    csvData = [['id', 'name', 'popularity', 'duration_ms', 'explicit', 'artist', 'artist_id', 'album', 'album_id', 'album_release_date', 'album_release_date_precision', 'album_total_tracks']]\n",
    "\n",
    "    with open('{}/{}.csv'.format(PROJECT_PATH, name), 'w', newline = '', encoding='utf-8') as csvFile:\n",
    "        writer = csv.writer(csvFile)\n",
    "        writer.writerows(csvData)\n",
    "\n",
    "    csvFile.close()"
   ]
  },
  {
   "cell_type": "code",
   "execution_count": null,
   "metadata": {},
   "outputs": [],
   "source": [
    "create_songs_file('songs')"
   ]
  },
  {
   "cell_type": "code",
   "execution_count": null,
   "metadata": {},
   "outputs": [],
   "source": [
    "def fetch_songs(offset, count, name = 'songs', limit = 50):\n",
    "    file_path = '{}/{}.csv'.format(PROJECT_PATH, name)\n",
    "    new_file = 'a'\n",
    "    tracks = []\n",
    "    if not os.path.exists(file_path):\n",
    "        tracks = [['id', 'name', 'popularity', 'duration_ms', 'explicit', 'artist', 'artist_id', 'album', 'album_id', 'album_release_date', 'album_release_date_precision', 'album_total_tracks']]\n",
    "        new_file = 'w'\n",
    "        \n",
    "    with open(file_path, new_file, newline = '', encoding='utf-8') as csvFile:\n",
    "        writer = csv.writer(csvFile)\n",
    "        for i in range(offset, count * limit, limit):\n",
    "            track_results = sp.search(q='year:1990', type='track', limit=limit,offset=i)\n",
    "            for i, t in enumerate(track_results['tracks']['items']):\n",
    "                tracks.append([t['id'], t['name'], t['popularity'], t['duration_ms'], t['explicit'], t['artists'][0]['name'], t['artists'][0]['id'],  t['album']['name'], t['album']['id'], t['album']['release_date'], t['album']['release_date_precision'], t['album']['total_tracks']])\n",
    "        writer.writerows(tracks)\n",
    "    csvFile.close()\n"
   ]
  },
  {
   "cell_type": "code",
   "execution_count": null,
   "metadata": {},
   "outputs": [],
   "source": [
    "fetch_songs(0, 10)"
   ]
  },
  {
   "cell_type": "code",
   "execution_count": null,
   "metadata": {},
   "outputs": [],
   "source": [
    "df = pd.read_csv('{}/{}.csv'.format(PROJECT_PATH, 'songs'))"
   ]
  },
  {
   "cell_type": "code",
   "execution_count": null,
   "metadata": {},
   "outputs": [],
   "source": [
    "df.head()"
   ]
  },
  {
   "cell_type": "code",
   "execution_count": null,
   "metadata": {},
   "outputs": [],
   "source": [
    "pattern = r'[^a-z0-9A-z]'\n",
    "df['name_az'] = df['name'].str.replace(pattern, '').str.lower()\n",
    "df['artist_az'] = df['artist'].str.replace(pattern, '').str.lower()\n",
    "df['has_lyrics'] = 0"
   ]
  },
  {
   "cell_type": "code",
   "execution_count": null,
   "metadata": {},
   "outputs": [],
   "source": [
    "for index, row in df.iterrows():\n",
    "    print(row['name_az'], row['artist_az'])\n",
    "    df.loc[index, 'has_lyrics'] = create_file('{}/{}'.format(row['artist_az'], row['name_az']))"
   ]
  },
  {
   "cell_type": "code",
   "execution_count": null,
   "metadata": {},
   "outputs": [],
   "source": [
    "df.head()"
   ]
  },
  {
   "cell_type": "code",
   "execution_count": null,
   "metadata": {},
   "outputs": [],
   "source": [
    "df.groupby('has_lyrics').count()"
   ]
  },
  {
   "cell_type": "code",
   "execution_count": null,
   "metadata": {
    "scrolled": true
   },
   "outputs": [],
   "source": [
    "import spacy\n",
    "nlp = spacy.load('en')\n",
    "\n",
    "def isTextInEnglish(text):\n",
    "    doc = nlp(text)\n",
    "    words_set = set([token.text.lower() for token in doc])\n",
    "    stopwords_set = set(spacy.lang.en.stop_words.STOP_WORDS)\n",
    "    \n",
    "    common_elements = words_set.intersection(stopwords_set)\n",
    "    print(common_elements)\n",
    "    return len(common_elements) > 1\n",
    "\n",
    "print(isTextInEnglish('  Wild beast I\"ll make you mine Taste your kiss Sweet lips divine She got moves, drips of sweat She got eyes of blue, body curves, legs that\"ll break your nerves Fire, when she\"s going down Fire, then she make you drown Fire, then she blow you round Yeah, you want some fun Fire your guns, Fire your guns, Fire your guns, Fire your guns  That lady bites Hard style Drips of sex Eyes are wild She got moves Long long legs She got eyes of blue, body curves, Legs that\"ll shake the earth Fire, when she\"s going down Fire, then she make you drown Fire, then she blow you round Yeah, you want some fun Fire your guns, Fire your guns, Fire your guns, Fire your guns  Fire, when she\"s going down Fire, then she make you drown Fire, then she blow you round Yeah, you want some fun Fire your guns, Fire your guns, Fire your guns, Fire your guns Fire your guns, Fire your guns, Fire your guns, Fire your guns Fire your guns Fire your guns '))\n",
    "print(isTextInEnglish('La luna es una naranja del color del carmin a media noche Descalza tras la ventana viendo el madrigal ir golfo y canalla Las motos el rock and roll cuero tachuelas y alcohol que estas haciendo ahora yo intento que el corazon que es un gran muelle de acero no se me salga del pecho Te necesito ya ves odio reconocer que necesito tener tu aliento para estar bien que no hay mejor alimento que el que me das con tus besos Llama por favor soy un cero a la izquierda soy un globo sin gas un barco en alta mar sin patron a la deriva Llama por favor estoy tan indefensa me falta voluntad no me puedo concentrar y no encuentro la salida, no La radio con sus propuestas para un mundo feliz me desconcierta Me pasan por la cabeza mil locuras que no tomo ni en cuenta y aunque me duele esta ves tengo que reconocer que necesito tener tu cuerpo para estar bien enamorada, perdida mi mente te necesita [se repite] '))"
   ]
  }
 ],
 "metadata": {
  "kernelspec": {
   "display_name": "Python 3",
   "language": "python",
   "name": "python3"
  },
  "language_info": {
   "codemirror_mode": {
    "name": "ipython",
    "version": 3
   },
   "file_extension": ".py",
   "mimetype": "text/x-python",
   "name": "python",
   "nbconvert_exporter": "python",
   "pygments_lexer": "ipython3",
   "version": "3.7.1"
  }
 },
 "nbformat": 4,
 "nbformat_minor": 2
}
