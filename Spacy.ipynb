{
 "cells": [
  {
   "cell_type": "code",
   "execution_count": 54,
   "metadata": {},
   "outputs": [],
   "source": [
    "import spacy\n",
    "from spacy.tokens import Doc, Token\n",
    "from vaderSentiment.vaderSentiment import SentimentIntensityAnalyzer"
   ]
  },
  {
   "cell_type": "code",
   "execution_count": 55,
   "metadata": {},
   "outputs": [],
   "source": [
    "nlp = spacy.load('en_core_web_sm')"
   ]
  },
  {
   "cell_type": "code",
   "execution_count": 56,
   "metadata": {},
   "outputs": [],
   "source": [
    "lyrics = \"\"\"I hurt myself today\n",
    "To see if I still feel\n",
    "I focus on the pain\n",
    "The only thing that's real\n",
    "The needle tears a hole\n",
    "The old familiar sting\n",
    "Try to kill it all away\n",
    "But I remember everything\n",
    "\n",
    "What have I become?\n",
    "My sweetest friend\n",
    "Everyone I know\n",
    "Goes away in the end\n",
    "You could have it all\n",
    "My empire of dirt\n",
    "I will let you down\n",
    "I will make you hurt\n",
    "\n",
    "I wear this crown of shit\n",
    "Upon my liar's chair\n",
    "Full of broken thoughts\n",
    "I cannot repair\n",
    "Beneath the stains of time\n",
    "The feelings disappear\n",
    "You are someone else\n",
    "I am still right here\n",
    "\n",
    "What have I become?\n",
    "My sweetest friend\n",
    "Everyone I know\n",
    "Goes away in the end\n",
    "\n",
    "You could have it all\n",
    "My empire of dirt\n",
    "I will let you down\n",
    "I will make you hurt\n",
    "If I could start again\n",
    "A million miles away\n",
    "I would keep myself\n",
    "I would find a way\"\"\""
   ]
  },
  {
   "cell_type": "code",
   "execution_count": 57,
   "metadata": {},
   "outputs": [],
   "source": [
    "Doc.set_extension('vader_negative', default=None, force=True)\n",
    "Doc.set_extension('vader_neutral', default=None, force=True)\n",
    "Doc.set_extension('vader_positive', default=None, force=True)\n",
    "Token.set_extension('vader_negative', default=None, force=True)\n",
    "Token.set_extension('vader_neutral', default=None, force=True)\n",
    "Token.set_extension('vader_positive', default=None, force=True)"
   ]
  },
  {
   "cell_type": "code",
   "execution_count": 58,
   "metadata": {},
   "outputs": [],
   "source": [
    "def vader_pipe(doc):\n",
    "    sid_obj = SentimentIntensityAnalyzer()\n",
    "    sentiment_dict = sid_obj.polarity_scores(doc.text)\n",
    "    \n",
    "    doc._.vader_negative = sentiment_dict['neg']\n",
    "    doc._.vader_neutral = sentiment_dict['neu']\n",
    "    doc._.vader_positive = sentiment_dict['pos']\n",
    "    \n",
    "    for sentence in doc.sents:\n",
    "        for token in sentence:\n",
    "            token._.vader_negative = sentiment_dict['neg']\n",
    "            token._.vader_neutral = sentiment_dict['neu']\n",
    "            token._.vader_positive = sentiment_dict['pos']\n",
    "\n",
    "    return doc"
   ]
  },
  {
   "cell_type": "code",
   "execution_count": 59,
   "metadata": {},
   "outputs": [],
   "source": [
    "if nlp.has_pipe('vader_pipe'):\n",
    "    nlp.remove_pipe('vader_pipe')\n",
    "nlp.add_pipe(vader_pipe)"
   ]
  },
  {
   "cell_type": "code",
   "execution_count": 60,
   "metadata": {},
   "outputs": [],
   "source": [
    "document = nlp(lyrics)"
   ]
  },
  {
   "cell_type": "code",
   "execution_count": 61,
   "metadata": {},
   "outputs": [
    {
     "name": "stdout",
     "output_type": "stream",
     "text": [
      "0.051\n",
      "0.738\n",
      "0.211\n"
     ]
    }
   ],
   "source": [
    "print(document._.vader_positive)\n",
    "print(document._.vader_neutral)\n",
    "print(document._.vader_negative)"
   ]
  },
  {
   "cell_type": "code",
   "execution_count": 62,
   "metadata": {},
   "outputs": [],
   "source": [
    "text = nlp('landry')"
   ]
  },
  {
   "cell_type": "code",
   "execution_count": null,
   "metadata": {},
   "outputs": [],
   "source": []
  }
 ],
 "metadata": {
  "kernelspec": {
   "display_name": "Python 3",
   "language": "python",
   "name": "python3"
  },
  "language_info": {
   "codemirror_mode": {
    "name": "ipython",
    "version": 3
   },
   "file_extension": ".py",
   "mimetype": "text/x-python",
   "name": "python",
   "nbconvert_exporter": "python",
   "pygments_lexer": "ipython3",
   "version": "3.7.1"
  }
 },
 "nbformat": 4,
 "nbformat_minor": 2
}
