{
 "cells": [
  {
   "cell_type": "code",
   "execution_count": 13,
   "metadata": {},
   "outputs": [],
   "source": [
    "import spacy\n",
    "from textblob import TextBlob\n",
    "from spacy.tokens import Doc, Token\n",
    "from vaderSentiment.vaderSentiment import SentimentIntensityAnalyzer"
   ]
  },
  {
   "cell_type": "code",
   "execution_count": 4,
   "metadata": {},
   "outputs": [],
   "source": [
    "nlp = spacy.load('en_core_web_sm')"
   ]
  },
  {
   "cell_type": "code",
   "execution_count": 5,
   "metadata": {},
   "outputs": [],
   "source": [
    "lyrics = \"\"\"I hurt myself today\n",
    "To see if I still feel\n",
    "I focus on the pain\n",
    "The only thing that's real\n",
    "The needle tears a hole\n",
    "The old familiar sting\n",
    "Try to kill it all away\n",
    "But I remember everything\n",
    "\n",
    "What have I become?\n",
    "My sweetest friend\n",
    "Everyone I know\n",
    "Goes away in the end\n",
    "You could have it all\n",
    "My empire of dirt\n",
    "I will let you down\n",
    "I will make you hurt\n",
    "\n",
    "I wear this crown of shit\n",
    "Upon my liar's chair\n",
    "Full of broken thoughts\n",
    "I cannot repair\n",
    "Beneath the stains of time\n",
    "The feelings disappear\n",
    "You are someone else\n",
    "I am still right here\n",
    "\n",
    "What have I become?\n",
    "My sweetest friend\n",
    "Everyone I know\n",
    "Goes away in the end\n",
    "\n",
    "You could have it all\n",
    "My empire of dirt\n",
    "I will let you down\n",
    "I will make you hurt\n",
    "If I could start again\n",
    "A million miles away\n",
    "I would keep myself\n",
    "I would find a way\"\"\""
   ]
  },
  {
   "cell_type": "code",
   "execution_count": 6,
   "metadata": {},
   "outputs": [],
   "source": [
    "Doc.set_extension('vader_negative', default=None, force=True)\n",
    "Doc.set_extension('vader_neutral', default=None, force=True)\n",
    "Doc.set_extension('vader_positive', default=None, force=True)\n",
    "Token.set_extension('vader_negative', default=None, force=True)\n",
    "Token.set_extension('vader_neutral', default=None, force=True)\n",
    "Token.set_extension('vader_positive', default=None, force=True)"
   ]
  },
  {
   "cell_type": "code",
   "execution_count": 18,
   "metadata": {},
   "outputs": [],
   "source": [
    "Doc.set_extension('tb_subjectivity', default=None, force=True)\n",
    "Doc.set_extension('tb_polarity', default=None, force=True)"
   ]
  },
  {
   "cell_type": "code",
   "execution_count": 7,
   "metadata": {},
   "outputs": [],
   "source": [
    "def vader_pipe(doc):\n",
    "    sid_obj = SentimentIntensityAnalyzer()\n",
    "    sentiment_dict = sid_obj.polarity_scores(doc.text)\n",
    "    \n",
    "    doc._.vader_negative = sentiment_dict['neg']\n",
    "    doc._.vader_neutral = sentiment_dict['neu']\n",
    "    doc._.vader_positive = sentiment_dict['pos']\n",
    "    \n",
    "    for sentence in doc.sents:\n",
    "        for token in sentence:\n",
    "            sentiment_dict_token = sid_obj.polarity_scores(token.text)\n",
    "            token._.vader_negative = sentiment_dict_token['neg']\n",
    "            token._.vader_neutral = sentiment_dict_token['neu']\n",
    "            token._.vader_positive = sentiment_dict_token['pos']\n",
    "\n",
    "    return doc"
   ]
  },
  {
   "cell_type": "code",
   "execution_count": 26,
   "metadata": {},
   "outputs": [],
   "source": [
    "def textblob_pipe(doc):\n",
    "    textBlobText = TextBlob(doc.text)\n",
    "    \n",
    "    doc._.tb_polarity = textBlobText.sentiment[0]\n",
    "    doc._.tb_subjectivity = textBlobText.sentiment[1]\n",
    "\n",
    "    return doc"
   ]
  },
  {
   "cell_type": "code",
   "execution_count": 27,
   "metadata": {},
   "outputs": [],
   "source": [
    "if nlp.has_pipe('vader_pipe'):\n",
    "    nlp.remove_pipe('vader_pipe')\n",
    "nlp.add_pipe(vader_pipe)"
   ]
  },
  {
   "cell_type": "code",
   "execution_count": 28,
   "metadata": {},
   "outputs": [],
   "source": [
    "if nlp.has_pipe('textblob_pipe'):\n",
    "    nlp.remove_pipe('textblob_pipe')\n",
    "nlp.add_pipe(textblob_pipe)"
   ]
  },
  {
   "cell_type": "code",
   "execution_count": 29,
   "metadata": {},
   "outputs": [
    {
     "name": "stdout",
     "output_type": "stream",
     "text": [
      "0.051\n",
      "0.738\n",
      "0.211\n",
      "0.03996031746031746\n",
      "0.4863492063492063\n"
     ]
    }
   ],
   "source": [
    "document = nlp(lyrics)\n",
    "print(document._.vader_positive)\n",
    "print(document._.vader_neutral)\n",
    "print(document._.vader_negative)\n",
    "print(document._.tb_polarity)\n",
    "print(document._.tb_subjectivity)"
   ]
  },
  {
   "cell_type": "code",
   "execution_count": 10,
   "metadata": {},
   "outputs": [
    {
     "name": "stdout",
     "output_type": "stream",
     "text": [
      "0.0\n",
      "0.312\n",
      "0.688\n"
     ]
    }
   ],
   "source": [
    "text = nlp('John has cancer.')\n",
    "print(text._.vader_positive)\n",
    "print(text._.vader_neutral)\n",
    "print(text._.vader_negative)"
   ]
  },
  {
   "cell_type": "code",
   "execution_count": 11,
   "metadata": {},
   "outputs": [
    {
     "name": "stdout",
     "output_type": "stream",
     "text": [
      "John\n",
      "0.0\n",
      "1.0\n",
      "0.0\n",
      "has\n",
      "0.0\n",
      "1.0\n",
      "0.0\n",
      "cancer\n",
      "0.0\n",
      "0.0\n",
      "1.0\n"
     ]
    }
   ],
   "source": [
    "for sentence in text.sents:\n",
    "    for token in sentence:\n",
    "        if token.is_alpha:\n",
    "            print(token)\n",
    "            print(token._.vader_positive)\n",
    "            print(token._.vader_neutral)\n",
    "            print(token._.vader_negative)"
   ]
  },
  {
   "cell_type": "code",
   "execution_count": 15,
   "metadata": {},
   "outputs": [],
   "source": [
    "textBlobText = TextBlob(lyrics)\n"
   ]
  },
  {
   "cell_type": "code",
   "execution_count": 25,
   "metadata": {},
   "outputs": [
    {
     "data": {
      "text/plain": [
       "Sentiment(polarity=0.03996031746031746, subjectivity=0.4863492063492063)"
      ]
     },
     "execution_count": 25,
     "metadata": {},
     "output_type": "execute_result"
    }
   ],
   "source": [
    "textBlobText.sentiment"
   ]
  },
  {
   "cell_type": "code",
   "execution_count": null,
   "metadata": {},
   "outputs": [],
   "source": []
  }
 ],
 "metadata": {
  "kernelspec": {
   "display_name": "Python 3",
   "language": "python",
   "name": "python3"
  },
  "language_info": {
   "codemirror_mode": {
    "name": "ipython",
    "version": 3
   },
   "file_extension": ".py",
   "mimetype": "text/x-python",
   "name": "python",
   "nbconvert_exporter": "python",
   "pygments_lexer": "ipython3",
   "version": "3.7.1"
  }
 },
 "nbformat": 4,
 "nbformat_minor": 2
}
