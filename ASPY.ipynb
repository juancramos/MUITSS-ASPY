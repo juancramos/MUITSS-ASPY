{
 "cells": [
  {
   "cell_type": "code",
   "execution_count": null,
   "metadata": {},
   "outputs": [],
   "source": [
    "# system import\n",
    "import sys\n",
    "import os\n",
    "import csv\n",
    "import config\n",
    "import random\n",
    "import time\n",
    "\n",
    "# data processing\n",
    "import pandas as pd\n",
    "import numpy\n",
    "import spacy\n",
    "from spacy_cld import LanguageDetector\n",
    "\n",
    "# data load\n",
    "import spotipy\n",
    "from spotipy.oauth2 import SpotifyClientCredentials\n",
    "from bs4 import BeautifulSoup\n",
    "import requests"
   ]
  },
  {
   "cell_type": "code",
   "execution_count": null,
   "metadata": {},
   "outputs": [],
   "source": [
    "# set env\n",
    "PROJECT_PATH = config.data_directory\n",
    "client_credentials_manager = SpotifyClientCredentials(client_id=config.client_id, client_secret=config.client_secret)\n",
    "sp = spotipy.Spotify(client_credentials_manager=client_credentials_manager)\n",
    "\n",
    "# try to not get banned\n",
    "USER_AGENTS = [\n",
    "    'Mozilla/5.0 (Windows; U; Windows NT 5.1; it; rv:1.8.1.11) Gecko/20071127 Firefox/2.0.0.11',\n",
    "    'Mozilla/5.0 (iPad; CPU OS 8_4_1 like Mac OS X) AppleWebKit/600.1.4 (KHTML, like Gecko) Version/8.0 Mobile/12H321 Safari/600.1.4',\n",
    "    'Mozilla/4.0 (compatible; MSIE 6.0; Windows NT 5.1; SV1; .NET CLR 1.1.4322; .NET CLR 2.0.50727)',\n",
    "    'Mozilla/5.0 (compatible; Konqueror/3.5; Linux) KHTML/3.5.5 (like Gecko) (Kubuntu)',\n",
    "    'Mozilla/5.0 (Windows NT 10.0; Win64; x64) AppleWebKit/537.36 (KHTML, like Gecko) Chrome/51.0.2704.79 Safari/537.36 Edge/14.14393'\n",
    "    'Mozilla/5.0 (Macintosh; Intel Mac OS X 10.7; rv:11.0) Gecko/20100101 Firefox/11.0',\n",
    "    'Mozilla/5.0 (Windows NT 10.0; Win64; x64; rv:53.0) Gecko/20100101 Firefox/53.0',\n",
    "    'Mozilla/5.0 (Windows NT 10.0; Win64; x64) AppleWebKit/537.36 (KHTML, like Gecko) Chrome/58.0.3029.110 Safari/537.36',\n",
    "    'Mozilla/5.0 (Windows NT 10.0; Win64; x64) AppleWebKit/537.36 (KHTML, like Gecko) Chrome/71.0.3578.98 Safari/537.36 OPR/58.0.3135.107']\n",
    "\n",
    "def getFromUrl(url, user_agent=True):\n",
    "    time.sleep(random.randint(1,10))\n",
    "    if user_agent:\n",
    "        return requests.get(url, headers={'User-Agent': random.choice(USER_AGENTS)})\n",
    "    return requests.get(url)\n",
    "\n",
    "def getLyric(title):\n",
    "    url = \"https://www.azlyrics.com/lyrics/{}.html\".format(title)\n",
    "    return getFromUrl(url)\n",
    "\n",
    "def seachLyric(title, artist):\n",
    "    url = \"https://search.azlyrics.com/search.php?q={}\".format(title.replace(' ', '+').lower())\n",
    "    c = getFromUrl(url)\n",
    "    soup = BeautifulSoup(c.content)\n",
    "    links = soup.find_all('b', string=artist)\n",
    "    if len(links) > 0:\n",
    "        link = links[0].find_previous_sibling('a')['href']\n",
    "        return getFromUrl(link)\n",
    "    else:\n",
    "        return None"
   ]
  },
  {
   "cell_type": "code",
   "execution_count": null,
   "metadata": {},
   "outputs": [],
   "source": [
    "# file operations\n",
    "def read_file(file):\n",
    "    text_file = open('{}'.format(file), \"r\")\n",
    "    text = text_file.read()\n",
    "    text_file.close()\n",
    "    return text\n",
    "\n",
    "def get_lyric_name_path(a, t):\n",
    "    aaz = a.replace(' ', '').lower()\n",
    "    taz = t.replace(' ', '').lower()\n",
    "    title = '{}/{}'.format(aaz, taz)\n",
    "    print(title)\n",
    "    file_path = '{}/{}.txt'.format(PROJECT_PATH, title.replace('/','-'))\n",
    "    path = [title, file_path]\n",
    "\n",
    "    if not os.path.exists(file_path):\n",
    "        return path + [True]\n",
    "    else:\n",
    "        return path + [False]\n",
    "\n",
    "def fetch_lylic_to_file(a, t, aa = None, tt = None):\n",
    "    path = get_lyric_name_path(a, t)\n",
    "\n",
    "    if not path[2]:\n",
    "        result = getLyric(path[0])\n",
    "        \n",
    "        if result.status_code != requests.codes.ok:\n",
    "            result = seachLyric(t, aa)\n",
    "            \n",
    "        if result is None:\n",
    "            return 0\n",
    "            \n",
    "        c = result.content\n",
    "        soup = BeautifulSoup(c)\n",
    "        ringtones = soup.find_all(\"div\", class_=\"ringtone\")\n",
    "        \n",
    "        if len(ringtones) > 0:\n",
    "            ringtone = ringtones[0]\n",
    "            html_lyrics = ringtone.find_next_sibling('div')\n",
    "            cleanText = html_lyrics.get_text().replace('\\r','').replace('\\n',' ').replace(\"\\'\",'\"')\n",
    "\n",
    "            fo = open(path[1], \"w\", encoding='utf-8')\n",
    "            fo.write(cleanText)\n",
    "            fo.close()\n",
    "            \n",
    "            return 1\n",
    "        else:\n",
    "            return 0\n",
    "    else:\n",
    "        print('File Already Exists')\n",
    "        return 1"
   ]
  },
  {
   "cell_type": "code",
   "execution_count": null,
   "metadata": {},
   "outputs": [],
   "source": [
    "# spotify interaction\n",
    "def fetch_songs(offset, count, name = 'songs', limit = 50):\n",
    "    file_path = '{}/{}.csv'.format(PROJECT_PATH, name)\n",
    "    new_file = 'a'\n",
    "    tracks = []\n",
    "    if not os.path.exists(file_path):\n",
    "        tracks = [['id', 'name', 'popularity', 'duration_ms', 'explicit', 'artist', 'artist_id', 'album', 'album_id', 'album_release_date', 'album_release_date_precision', 'album_total_tracks']]\n",
    "        new_file = 'w'\n",
    "        \n",
    "    with open(file_path, new_file, newline = '', encoding='utf-8') as csvFile:\n",
    "        writer = csv.writer(csvFile)\n",
    "        for i in range(offset, count * limit, limit):\n",
    "            track_results = sp.search(q='year:1990', type='track', limit=limit,offset=i)\n",
    "            for i, t in enumerate(track_results['tracks']['items']):\n",
    "                tracks.append([t['id'], t['name'], t['popularity'], t['duration_ms'], t['explicit'], t['artists'][0]['name'], t['artists'][0]['id'],  t['album']['name'], t['album']['id'], t['album']['release_date'], t['album']['release_date_precision'], t['album']['total_tracks']])\n",
    "        writer.writerows(tracks)\n",
    "    csvFile.close()"
   ]
  },
  {
   "cell_type": "code",
   "execution_count": null,
   "metadata": {},
   "outputs": [],
   "source": [
    "fetch_songs(0, 1)"
   ]
  },
  {
   "cell_type": "code",
   "execution_count": null,
   "metadata": {},
   "outputs": [],
   "source": [
    "# load dataFrame\n",
    "df = pd.read_csv('{}/{}.csv'.format(PROJECT_PATH, 'songs'))\n",
    "df.head()"
   ]
  },
  {
   "cell_type": "code",
   "execution_count": null,
   "metadata": {},
   "outputs": [],
   "source": [
    "# spacy set language\n",
    "nlp = spacy.load('en')\n",
    "language_detector = LanguageDetector()\n",
    "nlp.add_pipe(language_detector)\n",
    "\n",
    "def isTextInEnglish(text):\n",
    "    doc = nlp(text)\n",
    "    languages = doc._.languages\n",
    "    try:\n",
    "        score = doc._.language_scores['en']\n",
    "        return score > 0.75\n",
    "    except:\n",
    "        return False"
   ]
  },
  {
   "cell_type": "code",
   "execution_count": null,
   "metadata": {},
   "outputs": [],
   "source": [
    "# text cleansing \n",
    "def clean_text(text):\n",
    "    return text.replace('\"',\"'\").replace('“','\"').replace('”','\"').replace('’','\"').replace('‘','\"')\n",
    "\n",
    "def add_lyrics(row):\n",
    "    if row['has_lyrics']:\n",
    "        return clean_text(read_file(row['file_name']))\n",
    "    else:\n",
    "        return ''"
   ]
  },
  {
   "cell_type": "code",
   "execution_count": null,
   "metadata": {},
   "outputs": [],
   "source": [
    "# az data\n",
    "pattern = r'[^a-z0-9A-z]'\n",
    "df['p_name'] = df['name'].str.replace(pattern, ' ').str.lower()\n",
    "df['p_artist'] = df['artist'].str.replace(pattern, ' ').str.lower()\n",
    "df['file_name'] = df.apply(lambda x: get_lyric_name_path(x['p_artist'], x['p_name'])[1], axis=1)\n",
    "df['has_lyrics'] = 0"
   ]
  },
  {
   "cell_type": "code",
   "execution_count": null,
   "metadata": {},
   "outputs": [],
   "source": [
    "# fetch from internet\n",
    "for index, row in df.iterrows():\n",
    "    df.loc[index, 'has_lyrics'] = fetch_lylic_to_file(row['p_artist'], row['p_name'], row['artist'], row['name'])"
   ]
  },
  {
   "cell_type": "code",
   "execution_count": null,
   "metadata": {},
   "outputs": [],
   "source": [
    "# fetch from local\n",
    "for index, row in df.iterrows():\n",
    "    exists = os.path.isfile(row['file_name'])\n",
    "    if exists:\n",
    "        df.loc[index, 'has_lyrics'] = exists"
   ]
  },
  {
   "cell_type": "code",
   "execution_count": null,
   "metadata": {},
   "outputs": [],
   "source": [
    "df['lyrics'] = df.apply(lambda x: add_lyrics(x), axis=1)\n",
    "df['is_english'] = df.apply(lambda x: isTextInEnglish(x['lyrics']), axis=1)"
   ]
  },
  {
   "cell_type": "code",
   "execution_count": null,
   "metadata": {},
   "outputs": [],
   "source": [
    "# spacy entity recognition\n",
    "nlp = spacy.load(\"en_core_web_sm\")\n",
    "\n",
    "def entityRecognition(text):\n",
    "    doc = nlp(text)\n",
    "\n",
    "    for ent in doc.ents:\n",
    "        print(ent.text, ent.start_char, ent.end_char, ent.label_)"
   ]
  }
 ],
 "metadata": {
  "kernelspec": {
   "display_name": "Python 3",
   "language": "python",
   "name": "python3"
  },
  "language_info": {
   "codemirror_mode": {
    "name": "ipython",
    "version": 3
   },
   "file_extension": ".py",
   "mimetype": "text/x-python",
   "name": "python",
   "nbconvert_exporter": "python",
   "pygments_lexer": "ipython3",
   "version": "3.7.1"
  }
 },
 "nbformat": 4,
 "nbformat_minor": 2
}
