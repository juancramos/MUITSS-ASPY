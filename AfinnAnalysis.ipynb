{
 "cells": [
  {
   "cell_type": "code",
   "execution_count": 9,
   "metadata": {},
   "outputs": [],
   "source": [
    "import config\n",
    "import spacy\n",
    "from afinn import Afinn\n",
    "\n",
    "af = Afinn()\n",
    "nlp = spacy.load('en')"
   ]
  },
  {
   "cell_type": "code",
   "execution_count": 10,
   "metadata": {},
   "outputs": [],
   "source": [
    "corpus = [\"\"\"I hurt myself today\n",
    "To see if I still feel\n",
    "I focus on the pain\n",
    "The only thing that's real\n",
    "The needle tears a hole\n",
    "The old familiar sting\n",
    "Try to kill it all away\n",
    "But I remember everything\n",
    "\n",
    "What have I become?\n",
    "My sweetest friend\n",
    "Everyone I know\n",
    "Goes away in the end\n",
    "You could have it all\n",
    "My empire of dirt\n",
    "I will let you down\n",
    "I will make you hurt\n",
    "\n",
    "I wear this crown of shit\n",
    "Upon my liar's chair\n",
    "Full of broken thoughts\n",
    "I cannot repair\n",
    "Beneath the stains of time\n",
    "The feelings disappear\n",
    "You are someone else\n",
    "I am still right here\n",
    "\n",
    "What have I become?\n",
    "My sweetest friend\n",
    "Everyone I know\n",
    "Goes away in the end\n",
    "\n",
    "You could have it all\n",
    "My empire of dirt\n",
    "I will let you down\n",
    "I will make you hurt\n",
    "If I could start again\n",
    "A million miles away\n",
    "I would keep myself\n",
    "I would find a way\"\"\"]"
   ]
  },
  {
   "cell_type": "code",
   "execution_count": 2,
   "metadata": {},
   "outputs": [],
   "source": [
    "PROJECT_PATH = config.afinn_path"
   ]
  },
  {
   "cell_type": "code",
   "execution_count": 5,
   "metadata": {},
   "outputs": [],
   "source": [
    "def scoresFromFile111(termScoreFile):\n",
    "    scores = {}\n",
    "    with open(termScoreFile, 'r') as f:\n",
    "        for line in f:\n",
    "            term, score = line.split(\"\\t\")\n",
    "            scores[term] = float(score)\n",
    "    return scores\n",
    "\n",
    "setScores165 = scoresFromFile('{}/{}.txt'.format(PROJECT_PATH, \"AFINN-en-165\"))\n",
    "\n",
    "setScores111 = scoresFromFile('{}/{}.txt'.format(PROJECT_PATH, \"AFINN-111\"))"
   ]
  },
  {
   "cell_type": "code",
   "execution_count": 8,
   "metadata": {},
   "outputs": [
    {
     "name": "stdout",
     "output_type": "stream",
     "text": [
      "3382\n",
      "2477\n"
     ]
    }
   ],
   "source": [
    "print(len(setScores165))\n",
    "print(len(setScores111))"
   ]
  },
  {
   "cell_type": "code",
   "execution_count": 12,
   "metadata": {},
   "outputs": [
    {
     "data": {
      "text/plain": [
       "-16.0"
      ]
     },
     "execution_count": 12,
     "metadata": {},
     "output_type": "execute_result"
    }
   ],
   "source": [
    "def getTokens(text):\n",
    "    doc = nlp(text)\n",
    "    words_set = set([token.text.lower() for token in doc])\n",
    "    stopwords_set = set(spacy.lang.en.stop_words.STOP_WORDS)\n",
    "    contentWords = [w for w in words_set if w.lower() not in stopwords_set]\n",
    "    \n",
    "    return contentWords\n",
    "\n",
    "def getSentiments(text, setScores = setScores165):\n",
    "    sentiment = 0.0\n",
    "    for eachWord in getTokens(text):\n",
    "        if eachWord in setScores:\n",
    "            sentiment += setScores[eachWord]\n",
    "    return sentiment\n",
    "\n",
    "getSentiments(corpus[0])"
   ]
  },
  {
   "cell_type": "code",
   "execution_count": 14,
   "metadata": {},
   "outputs": [],
   "source": [
    "# compute sentiment scores (polarity) and labels\n",
    "sentiment_scores = [af.score(text) for text in corpus]\n",
    "sentiment_category = [[score, 'positive'] if score > 0 \n",
    "                          else [score, 'negative'] if score < 0 \n",
    "                              else [score, 'neutral'] \n",
    "                                  for score in sentiment_scores]"
   ]
  }
 ],
 "metadata": {
  "kernelspec": {
   "display_name": "Python 3",
   "language": "python",
   "name": "python3"
  },
  "language_info": {
   "codemirror_mode": {
    "name": "ipython",
    "version": 3
   },
   "file_extension": ".py",
   "mimetype": "text/x-python",
   "name": "python",
   "nbconvert_exporter": "python",
   "pygments_lexer": "ipython3",
   "version": "3.7.1"
  }
 },
 "nbformat": 4,
 "nbformat_minor": 2
}
