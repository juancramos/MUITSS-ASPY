{
 "cells": [
  {
   "cell_type": "code",
   "execution_count": 9,
   "metadata": {},
   "outputs": [],
   "source": [
    "import config\n",
    "import spacy\n",
    "from afinn import Afinn\n",
    "\n",
    "af = Afinn()\n",
    "nlp = spacy.load('en')"
   ]
  },
  {
   "cell_type": "code",
   "execution_count": 22,
   "metadata": {},
   "outputs": [],
   "source": [
    "corpus = [\"\"\"I hurt myself today\n",
    "To see if I still feel\n",
    "I focus on the pain\n",
    "The only thing that's real\n",
    "The needle tears a hole\n",
    "The old familiar sting\n",
    "Try to kill it all away\n",
    "But I remember everything\n",
    "\n",
    "What have I become?\n",
    "My sweetest friend\n",
    "Everyone I know\n",
    "Goes away in the end\n",
    "You could have it all\n",
    "My empire of dirt\n",
    "I will let you down\n",
    "I will make you hurt\n",
    "\n",
    "I wear this crown of shit\n",
    "Upon my liar's chair\n",
    "Full of broken thoughts\n",
    "I cannot repair\n",
    "Beneath the stains of time\n",
    "The feelings disappear\n",
    "You are someone else\n",
    "I am still right here\n",
    "\n",
    "What have I become?\n",
    "My sweetest friend\n",
    "Everyone I know\n",
    "Goes away in the end\n",
    "\n",
    "You could have it all\n",
    "My empire of dirt\n",
    "I will let you down\n",
    "I will make you hurt\n",
    "If I could start again\n",
    "A million miles away\n",
    "I would keep myself\n",
    "I would find a way\"\"\", \"\"\"Honey\n",
    "Honey bee\n",
    "Honey bee\n",
    "Honey bee\n",
    "Honey\n",
    "Honey\n",
    "\n",
    "You're my honey bee (You're my honey bee, baby)\n",
    "Come on and sting me (Your love is sweet as can be)\n",
    "You're my honey bee (You're my honey bee, baby)\n",
    "Come on and sting me (Your love is sweet as can be)\n",
    "\n",
    "You're always so busy\n",
    "Workin' on love's honeycomb\n",
    "Chalk full of sugar down your sweet mouth\n",
    "Every time you kiss me, boy, really turns me on\n",
    "\n",
    "You're always buzzin', buzzin', buzzin'\n",
    "Love is in the air\n",
    "There's nothin' like your lovin'\n",
    "Boy, it's beyond compare, yeah\n",
    "\n",
    "You're my honey bee (You're my honey bee, baby)\n",
    "Come on and sting me (Your love is sweet as can be)\n",
    "You're my honey bee, yeah (You're my honey bee, baby)\n",
    "Come on and sting me (Your love is sweet as can be)\n",
    "\n",
    "There's so much love power\n",
    "In everything you bring to me\n",
    "Whenever I'm snuggled in your arms\n",
    "The love you bring makes my heart sing\n",
    "\n",
    "You know love is where you are\n",
    "There's where I want to be\n",
    "When its cold outside\n",
    "You're honey love's so good to me\n",
    "\n",
    "You're my honey bee, oh, yeah (You're my honey bee, baby)\n",
    "Come on and sting me, oh (Your love is sweet as can be)\n",
    "You're my honey bee (You're my honey bee, baby)\n",
    "Come on and sting me, ah (Your love is sweet as can be), ow\n",
    "\n",
    "Ah'\n",
    "\n",
    "You're my honey bee (You're my honey bee, baby)\n",
    "Come on and sting me, yeah (Your love is sweet as can be)\n",
    "You're my honey bee (You're my honey bee, baby)\n",
    "Sweet love, oh (Your love is sweet as can be)\n",
    "\n",
    "Honey, honey, honey (You're my honey bee, baby)\n",
    "Honey bee (Your love is sweet as can be)\n",
    "Sweet love (You're my honey bee, baby)\n",
    "Sweet love, give it to me (Your love is sweet as can be)\n",
    "\n",
    "Got to have it, need your love, ah, yeah (You're my honey bee, baby)\n",
    "Sweet honey bee, yeah (Your love is sweet as can be)\n",
    "Sweet (You're my honey bee, baby) love, ah'\n",
    "(Your love is sweet as can be)\n",
    "\n",
    "You're my honey bee \"\"\"]"
   ]
  },
  {
   "cell_type": "code",
   "execution_count": 2,
   "metadata": {},
   "outputs": [],
   "source": [
    "PROJECT_PATH = config.afinn_path"
   ]
  },
  {
   "cell_type": "code",
   "execution_count": 5,
   "metadata": {},
   "outputs": [],
   "source": [
    "def scoresFromFile111(termScoreFile):\n",
    "    scores = {}\n",
    "    with open(termScoreFile, 'r') as f:\n",
    "        for line in f:\n",
    "            term, score = line.split(\"\\t\")\n",
    "            scores[term] = float(score)\n",
    "    return scores\n",
    "\n",
    "setScores165 = scoresFromFile('{}/{}.txt'.format(PROJECT_PATH, \"AFINN-en-165\"))\n",
    "\n",
    "setScores111 = scoresFromFile('{}/{}.txt'.format(PROJECT_PATH, \"AFINN-111\"))"
   ]
  },
  {
   "cell_type": "code",
   "execution_count": 8,
   "metadata": {},
   "outputs": [
    {
     "name": "stdout",
     "output_type": "stream",
     "text": [
      "3382\n",
      "2477\n"
     ]
    }
   ],
   "source": [
    "print(len(setScores165))\n",
    "print(len(setScores111))"
   ]
  },
  {
   "cell_type": "code",
   "execution_count": 27,
   "metadata": {},
   "outputs": [],
   "source": [
    "def getTokens(text):\n",
    "    doc = nlp(text)\n",
    "    words_set = set([token.text.lower() for token in doc])\n",
    "    stopwords_set = set(spacy.lang.en.stop_words.STOP_WORDS)\n",
    "    contentWords = [w for w in words_set if w.lower() not in stopwords_set]\n",
    "    \n",
    "    return words_set\n",
    "\n",
    "def getSentiments(text, setScores = setScores165):\n",
    "    pos = [0,0]\n",
    "    neg = [0,0]\n",
    "    neu = [0,0]\n",
    "    tokens = getTokens(text)\n",
    "    for eachWord in tokens:\n",
    "        if eachWord in setScores:\n",
    "            s = setScores[eachWord]\n",
    "            if s > 0:\n",
    "                pos[0] += 1 \n",
    "                pos[1] += s\n",
    "            elif s < 0:\n",
    "                neg[0] += 1 \n",
    "                neg[1] += s\n",
    "            else:\n",
    "                neu[0] += 1 \n",
    "                neu[1] += s\n",
    "    \n",
    "    total = len(tokens)\n",
    "    pos[0] = pos[0] * 100 / total\n",
    "    neg[0] = neg[0] * 100 / total\n",
    "    neu[0] = neu[0] * 100 / total\n",
    "    return [pos, neg, neu]\n"
   ]
  },
  {
   "cell_type": "code",
   "execution_count": 28,
   "metadata": {},
   "outputs": [
    {
     "data": {
      "text/plain": [
       "[[2.272727272727273, 4.0], [10.227272727272727, -20.0], [0.0, 0]]"
      ]
     },
     "execution_count": 28,
     "metadata": {},
     "output_type": "execute_result"
    }
   ],
   "source": [
    "getSentiments(corpus[0])"
   ]
  },
  {
   "cell_type": "code",
   "execution_count": 30,
   "metadata": {},
   "outputs": [
    {
     "data": {
      "text/plain": [
       "[[8.433734939759036, 14.0], [0.0, 0], [0.0, 0]]"
      ]
     },
     "execution_count": 30,
     "metadata": {},
     "output_type": "execute_result"
    }
   ],
   "source": [
    "getSentiments(corpus[1])"
   ]
  },
  {
   "cell_type": "code",
   "execution_count": 25,
   "metadata": {},
   "outputs": [],
   "source": [
    "# compute sentiment scores (polarity) and labels\n",
    "sentiment_scores = [af.score(text) for text in corpus]\n",
    "sentiment_category = [[score, 'positive'] if score > 0 \n",
    "                          else [score, 'negative'] if score < 0 \n",
    "                              else [score, 'neutral'] \n",
    "                                  for score in sentiment_scores]"
   ]
  },
  {
   "cell_type": "code",
   "execution_count": 26,
   "metadata": {},
   "outputs": [
    {
     "data": {
      "text/plain": [
       "[[-18.0, 'negative'], [119.0, 'positive']]"
      ]
     },
     "execution_count": 26,
     "metadata": {},
     "output_type": "execute_result"
    }
   ],
   "source": [
    "sentiment_category"
   ]
  }
 ],
 "metadata": {
  "kernelspec": {
   "display_name": "Python 3",
   "language": "python",
   "name": "python3"
  },
  "language_info": {
   "codemirror_mode": {
    "name": "ipython",
    "version": 3
   },
   "file_extension": ".py",
   "mimetype": "text/x-python",
   "name": "python",
   "nbconvert_exporter": "python",
   "pygments_lexer": "ipython3",
   "version": "3.7.1"
  }
 },
 "nbformat": 4,
 "nbformat_minor": 2
}
