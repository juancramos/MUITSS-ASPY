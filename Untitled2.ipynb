{
 "cells": [
  {
   "cell_type": "code",
   "execution_count": null,
   "metadata": {},
   "outputs": [],
   "source": [
    "import sys\n",
    "import spotipy\n",
    "from spotipy.oauth2 import SpotifyClientCredentials\n",
    "from bs4 import BeautifulSoup\n",
    "import requests\n",
    "import os\n",
    "import csv\n",
    "\n",
    "sys.path.append(\".\")\n",
    "import config"
   ]
  },
  {
   "cell_type": "code",
   "execution_count": null,
   "metadata": {},
   "outputs": [],
   "source": [
    "PROJECT_PATH = config.data_directory"
   ]
  },
  {
   "cell_type": "code",
   "execution_count": null,
   "metadata": {},
   "outputs": [],
   "source": [
    "client_credentials_manager = SpotifyClientCredentials(client_id=config.client_id, client_secret=config.client_secret)\n",
    "sp = spotipy.Spotify(client_credentials_manager=client_credentials_manager)"
   ]
  },
  {
   "cell_type": "code",
   "execution_count": 17,
   "metadata": {},
   "outputs": [],
   "source": [
    "raw_songs = sp.search(q='year:1990', limit=50, offset=1, type='track')"
   ]
  },
  {
   "cell_type": "code",
   "execution_count": 5,
   "metadata": {},
   "outputs": [],
   "source": []
  },
  {
   "cell_type": "code",
   "execution_count": 13,
   "metadata": {},
   "outputs": [],
   "source": [
    "def create_file(title):\n",
    "  file_path = '{}/{}.txt'.format(PROJECT_PATH, title)\n",
    "  if not os.path.exists(file_path):\n",
    "      result = requests.get(\"https://www.azlyrics.com/lyrics/{}.html\".format(title))\n",
    "      c = result.content\n",
    "      soup = BeautifulSoup(c)\n",
    "      ringtone = soup.find_all(\"div\", class_=\"ringtone\")[0]\n",
    "      html_lyrics = ringtone.find_next_sibling('div')\n",
    "      cleanText = html_lyrics.get_text().replace('\\r','').replace('\\n',' ').replace(\"\\'\",'\"')\n",
    "\n",
    "      file_path = '{}/{}.txt'.format(PROJECT_PATH, title.replace('/','-'))\n",
    "\n",
    "      fo = open(file_path, \"w\")\n",
    "      fo.write(cleanText)\n",
    "      fo.close()\n",
    "  else:\n",
    "    print('File Already Exists')"
   ]
  },
  {
   "cell_type": "code",
   "execution_count": 14,
   "metadata": {},
   "outputs": [],
   "source": [
    "create_file('wizkhalifa/youngwildfree')"
   ]
  },
  {
   "cell_type": "code",
   "execution_count": 15,
   "metadata": {},
   "outputs": [],
   "source": [
    "def create_songs_file(name):\n",
    "    csvData = [['name', 'id', 'popularity', 'duration_ms', 'explicit', 'category', 'playlist', 'artist', 'artist_id', 'album', 'album_id', 'album_release_date', 'album_release_date_precision', 'album_total_tracks', 'added_at']]\n",
    "\n",
    "    PROJECT_PATH = '../data/lyrics'\n",
    "    with open('{}/{}.csv'.format(PROJECT_PATH, name), 'w') as csvFile:\n",
    "        writer = csv.writer(csvFile)\n",
    "        writer.writerows(csvData)\n",
    "\n",
    "    csvFile.close()"
   ]
  },
  {
   "cell_type": "code",
   "execution_count": 16,
   "metadata": {},
   "outputs": [],
   "source": [
    "create_songs_file('songs')"
   ]
  }
 ],
 "metadata": {
  "kernelspec": {
   "display_name": "Python 3",
   "language": "python",
   "name": "python3"
  },
  "language_info": {
   "codemirror_mode": {
    "name": "ipython",
    "version": 3
   },
   "file_extension": ".py",
   "mimetype": "text/x-python",
   "name": "python",
   "nbconvert_exporter": "python",
   "pygments_lexer": "ipython3",
   "version": "3.7.2"
  }
 },
 "nbformat": 4,
 "nbformat_minor": 2
}
